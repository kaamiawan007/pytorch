{
  "nbformat": 4,
  "nbformat_minor": 0,
  "metadata": {
    "colab": {
      "provenance": [],
      "gpuType": "T4",
      "authorship_tag": "ABX9TyM6gHaTR6MM9rwXdF3A7uFF",
      "include_colab_link": true
    },
    "kernelspec": {
      "name": "python3",
      "display_name": "Python 3"
    },
    "language_info": {
      "name": "python"
    },
    "accelerator": "GPU"
  },
  "cells": [
    {
      "cell_type": "markdown",
      "metadata": {
        "id": "view-in-github",
        "colab_type": "text"
      },
      "source": [
        "<a href=\"https://colab.research.google.com/github/kaamiawan007/pytorch/blob/main/CNN.ipynb\" target=\"_parent\"><img src=\"https://colab.research.google.com/assets/colab-badge.svg\" alt=\"Open In Colab\"/></a>"
      ]
    },
    {
      "cell_type": "code",
      "execution_count": 1,
      "metadata": {
        "id": "Sq-CslgtnwLh"
      },
      "outputs": [],
      "source": [
        "# prompt: import torch necessary modules to load mnist data for convolutional neural network in pytorch\n",
        "\n",
        "import torch\n",
        "from torch import nn\n",
        "import torch.nn.functional as F\n",
        "from torch.utils.data import DataLoader\n",
        "from torchvision import datasets, transforms\n",
        "from torchvision.utils import make_grid\n",
        "import matplotlib.pyplot as plt\n",
        "import torchvision\n",
        "import torchvision.transforms as transforms\n",
        "\n",
        "import numpy as np\n",
        "import pandas as pd\n",
        "from sklearn.model_selection import train_test_split\n",
        "from sklearn.metrics import confusion_matrix\n",
        "%matplotlib inline\n",
        "import seaborn as sn\n",
        "\n"
      ]
    },
    {
      "cell_type": "code",
      "source": [
        "# prompt: Convert MNIST image file into tensor of 4 dimesions\n",
        "transform=transforms.ToTensor()\n",
        "\n"
      ],
      "metadata": {
        "id": "LjOmUHNhptXr"
      },
      "execution_count": 2,
      "outputs": []
    },
    {
      "cell_type": "code",
      "source": [
        "# Load the MNIST dataset\n",
        "train_dataset = datasets.MNIST(root='./data', train=True, download=True, transform=transform)\n"
      ],
      "metadata": {
        "colab": {
          "base_uri": "https://localhost:8080/"
        },
        "id": "JHaP4Za4sM8N",
        "outputId": "722acca5-096c-4cb1-c6b5-bdee351b2949"
      },
      "execution_count": 3,
      "outputs": [
        {
          "output_type": "stream",
          "name": "stdout",
          "text": [
            "Downloading http://yann.lecun.com/exdb/mnist/train-images-idx3-ubyte.gz\n",
            "Failed to download (trying next):\n",
            "HTTP Error 403: Forbidden\n",
            "\n",
            "Downloading https://ossci-datasets.s3.amazonaws.com/mnist/train-images-idx3-ubyte.gz\n",
            "Downloading https://ossci-datasets.s3.amazonaws.com/mnist/train-images-idx3-ubyte.gz to ./data/MNIST/raw/train-images-idx3-ubyte.gz\n"
          ]
        },
        {
          "output_type": "stream",
          "name": "stderr",
          "text": [
            "100%|██████████| 9912422/9912422 [00:00<00:00, 14560492.95it/s]\n"
          ]
        },
        {
          "output_type": "stream",
          "name": "stdout",
          "text": [
            "Extracting ./data/MNIST/raw/train-images-idx3-ubyte.gz to ./data/MNIST/raw\n",
            "\n",
            "Downloading http://yann.lecun.com/exdb/mnist/train-labels-idx1-ubyte.gz\n",
            "Failed to download (trying next):\n",
            "HTTP Error 403: Forbidden\n",
            "\n",
            "Downloading https://ossci-datasets.s3.amazonaws.com/mnist/train-labels-idx1-ubyte.gz\n",
            "Downloading https://ossci-datasets.s3.amazonaws.com/mnist/train-labels-idx1-ubyte.gz to ./data/MNIST/raw/train-labels-idx1-ubyte.gz\n"
          ]
        },
        {
          "output_type": "stream",
          "name": "stderr",
          "text": [
            "100%|██████████| 28881/28881 [00:00<00:00, 490225.47it/s]\n"
          ]
        },
        {
          "output_type": "stream",
          "name": "stdout",
          "text": [
            "Extracting ./data/MNIST/raw/train-labels-idx1-ubyte.gz to ./data/MNIST/raw\n",
            "\n",
            "Downloading http://yann.lecun.com/exdb/mnist/t10k-images-idx3-ubyte.gz\n",
            "Failed to download (trying next):\n",
            "HTTP Error 403: Forbidden\n",
            "\n",
            "Downloading https://ossci-datasets.s3.amazonaws.com/mnist/t10k-images-idx3-ubyte.gz\n",
            "Downloading https://ossci-datasets.s3.amazonaws.com/mnist/t10k-images-idx3-ubyte.gz to ./data/MNIST/raw/t10k-images-idx3-ubyte.gz\n"
          ]
        },
        {
          "output_type": "stream",
          "name": "stderr",
          "text": [
            "100%|██████████| 1648877/1648877 [00:00<00:00, 4466239.45it/s]\n"
          ]
        },
        {
          "output_type": "stream",
          "name": "stdout",
          "text": [
            "Extracting ./data/MNIST/raw/t10k-images-idx3-ubyte.gz to ./data/MNIST/raw\n",
            "\n",
            "Downloading http://yann.lecun.com/exdb/mnist/t10k-labels-idx1-ubyte.gz\n",
            "Failed to download (trying next):\n",
            "HTTP Error 403: Forbidden\n",
            "\n",
            "Downloading https://ossci-datasets.s3.amazonaws.com/mnist/t10k-labels-idx1-ubyte.gz\n",
            "Downloading https://ossci-datasets.s3.amazonaws.com/mnist/t10k-labels-idx1-ubyte.gz to ./data/MNIST/raw/t10k-labels-idx1-ubyte.gz\n"
          ]
        },
        {
          "output_type": "stream",
          "name": "stderr",
          "text": [
            "100%|██████████| 4542/4542 [00:00<00:00, 4515413.31it/s]"
          ]
        },
        {
          "output_type": "stream",
          "name": "stdout",
          "text": [
            "Extracting ./data/MNIST/raw/t10k-labels-idx1-ubyte.gz to ./data/MNIST/raw\n",
            "\n"
          ]
        },
        {
          "output_type": "stream",
          "name": "stderr",
          "text": [
            "\n"
          ]
        }
      ]
    },
    {
      "cell_type": "code",
      "source": [
        "test_dataset = datasets.MNIST(root='./data', train=False, download=True, transform=transform)"
      ],
      "metadata": {
        "id": "wzLTPVw7uvej"
      },
      "execution_count": 4,
      "outputs": []
    },
    {
      "cell_type": "code",
      "source": [
        "train_dataset"
      ],
      "metadata": {
        "colab": {
          "base_uri": "https://localhost:8080/"
        },
        "id": "7kNcBqVRvK8O",
        "outputId": "a974ddad-f688-4e1a-a098-8ffb5a410b82"
      },
      "execution_count": 5,
      "outputs": [
        {
          "output_type": "execute_result",
          "data": {
            "text/plain": [
              "Dataset MNIST\n",
              "    Number of datapoints: 60000\n",
              "    Root location: ./data\n",
              "    Split: Train\n",
              "    StandardTransform\n",
              "Transform: ToTensor()"
            ]
          },
          "metadata": {},
          "execution_count": 5
        }
      ]
    },
    {
      "cell_type": "code",
      "source": [
        "test_dataset"
      ],
      "metadata": {
        "colab": {
          "base_uri": "https://localhost:8080/"
        },
        "id": "Nj2ade0avZt4",
        "outputId": "9729f7ba-ab17-4e08-f100-6c78d6a362e9"
      },
      "execution_count": 6,
      "outputs": [
        {
          "output_type": "execute_result",
          "data": {
            "text/plain": [
              "Dataset MNIST\n",
              "    Number of datapoints: 10000\n",
              "    Root location: ./data\n",
              "    Split: Test\n",
              "    StandardTransform\n",
              "Transform: ToTensor()"
            ]
          },
          "metadata": {},
          "execution_count": 6
        }
      ]
    },
    {
      "cell_type": "code",
      "source": [
        "pwd"
      ],
      "metadata": {
        "colab": {
          "base_uri": "https://localhost:8080/",
          "height": 36
        },
        "id": "zso8S4kBvljm",
        "outputId": "5f57857f-c311-4f59-fd7f-fc980281e42a"
      },
      "execution_count": 7,
      "outputs": [
        {
          "output_type": "execute_result",
          "data": {
            "text/plain": [
              "'/content'"
            ],
            "application/vnd.google.colaboratory.intrinsic+json": {
              "type": "string"
            }
          },
          "metadata": {},
          "execution_count": 7
        }
      ]
    },
    {
      "cell_type": "code",
      "source": [
        "# prompt: code for Train and test loader\n",
        "\n",
        "# Split the dataset into training and testing sets\n",
        "train_loader = DataLoader(train_dataset, batch_size=10, shuffle=True)\n",
        "test_loader = DataLoader(test_dataset, batch_size=1000, shuffle=False)\n"
      ],
      "metadata": {
        "id": "yAEYJMMBzVcs"
      },
      "execution_count": 8,
      "outputs": []
    },
    {
      "cell_type": "code",
      "source": [
        "# 2 convolutional layers\n",
        "convolve1 = nn.Conv2d(1, 6, 3, 1)\n",
        "convolve2 = nn.Conv2d(6, 16, 3, 1)"
      ],
      "metadata": {
        "id": "n9g24fw30wZ9"
      },
      "execution_count": 9,
      "outputs": []
    },
    {
      "cell_type": "code",
      "source": [
        "#Grab 1 MNIS record\n",
        "for i, (X_train, y_train) in enumerate(train_dataset):\n",
        "    break"
      ],
      "metadata": {
        "id": "rLvgSENS1YFY"
      },
      "execution_count": 10,
      "outputs": []
    },
    {
      "cell_type": "code",
      "source": [
        "X_train.shape"
      ],
      "metadata": {
        "colab": {
          "base_uri": "https://localhost:8080/"
        },
        "id": "AuAWXfBo1x_z",
        "outputId": "52bf8b5f-a37d-4c86-b99c-5caf7f5b2a15"
      },
      "execution_count": 11,
      "outputs": [
        {
          "output_type": "execute_result",
          "data": {
            "text/plain": [
              "torch.Size([1, 28, 28])"
            ]
          },
          "metadata": {},
          "execution_count": 11
        }
      ]
    },
    {
      "cell_type": "code",
      "source": [
        "x = X_train.view(1, 1, 28, 28)"
      ],
      "metadata": {
        "id": "H-iSdOqckWr4"
      },
      "execution_count": 12,
      "outputs": []
    },
    {
      "cell_type": "code",
      "source": [
        "#Performing first Covolution\n",
        "x =F.relu(convolve1(x)) #Rectified Linear Unit for activation funtion"
      ],
      "metadata": {
        "id": "pbxmRbtKlRsO"
      },
      "execution_count": 13,
      "outputs": []
    },
    {
      "cell_type": "code",
      "source": [
        "x.shape"
      ],
      "metadata": {
        "colab": {
          "base_uri": "https://localhost:8080/"
        },
        "id": "0EIyXBu3l338",
        "outputId": "c745d72e-f565-4ccc-84f2-fb321b7c8136"
      },
      "execution_count": 14,
      "outputs": [
        {
          "output_type": "execute_result",
          "data": {
            "text/plain": [
              "torch.Size([1, 6, 26, 26])"
            ]
          },
          "metadata": {},
          "execution_count": 14
        }
      ]
    },
    {
      "cell_type": "code",
      "source": [
        "# Pass through the pooling layer\n",
        "x = F.max_pool2d(x, 2, 2) #kernal of 2 and stride of 2"
      ],
      "metadata": {
        "id": "mxF4K2YzmrQC"
      },
      "execution_count": 15,
      "outputs": []
    },
    {
      "cell_type": "code",
      "source": [
        "x.shape"
      ],
      "metadata": {
        "colab": {
          "base_uri": "https://localhost:8080/"
        },
        "id": "TM2ocVzdn8we",
        "outputId": "c92bed76-aa58-4054-fb2a-f48f1ba5c04e"
      },
      "execution_count": 16,
      "outputs": [
        {
          "output_type": "execute_result",
          "data": {
            "text/plain": [
              "torch.Size([1, 6, 13, 13])"
            ]
          },
          "metadata": {},
          "execution_count": 16
        }
      ]
    },
    {
      "cell_type": "code",
      "source": [
        "#Doing 2nd convolutional layer\n",
        "x = F.relu(convolve2(x))"
      ],
      "metadata": {
        "id": "y_izWObaoQgg"
      },
      "execution_count": 17,
      "outputs": []
    },
    {
      "cell_type": "code",
      "source": [
        "x.shape"
      ],
      "metadata": {
        "colab": {
          "base_uri": "https://localhost:8080/"
        },
        "id": "8idQupKfpCxv",
        "outputId": "0cdae7d5-bdb2-4518-813e-16534cdd631d"
      },
      "execution_count": 18,
      "outputs": [
        {
          "output_type": "execute_result",
          "data": {
            "text/plain": [
              "torch.Size([1, 16, 11, 11])"
            ]
          },
          "metadata": {},
          "execution_count": 18
        }
      ]
    },
    {
      "cell_type": "code",
      "source": [
        "#pooling layer\n",
        "x = F.max_pool2d(x, 2, 2)"
      ],
      "metadata": {
        "id": "pH0AI4nepb9B"
      },
      "execution_count": 19,
      "outputs": []
    },
    {
      "cell_type": "code",
      "source": [
        "x.shape"
      ],
      "metadata": {
        "colab": {
          "base_uri": "https://localhost:8080/"
        },
        "id": "c_fL0qozpf41",
        "outputId": "ab6cb09f-34e4-4d11-f51c-be3219f500de"
      },
      "execution_count": 20,
      "outputs": [
        {
          "output_type": "execute_result",
          "data": {
            "text/plain": [
              "torch.Size([1, 16, 5, 5])"
            ]
          },
          "metadata": {},
          "execution_count": 20
        }
      ]
    },
    {
      "cell_type": "code",
      "source": [
        "#CNN Model\n",
        "class ConvlultinalClass(nn.Module):\n",
        "  def __init__(self):\n",
        "    super(ConvlultinalClass, self).__init__()\n",
        "    self.conv1 = nn.Conv2d(1,6,3,1)\n",
        "    self.conv2 = nn.Conv2d(6,16,3,1)\n",
        "    #Fully connected layer\n",
        "    self.fc1 = nn.Linear(5*5*16,120)\n",
        "    self.fc2 = nn.Linear(120,84)\n",
        "    self.fc3 = nn.Linear(84,10)\n",
        "    # Forward Function\n",
        "  def forward(self,X):\n",
        "    X = F.relu(self.conv1(X))\n",
        "    X = F.max_pool2d(X,2,2) #2,2 kernal and stride of 2\n",
        "    #2nd pass\n",
        "    X = F.relu(self.conv2(X))\n",
        "    X = F.max_pool2d(X,2,2)\n",
        "    #Revie data to Flatten it out\n",
        "    X = X.view(-1,5*5*16) #Negative is to vary the batch size\n",
        "    #Fully Connected layer\n",
        "    X = F.relu(self.fc1(X))\n",
        "    X = F.relu(self.fc2(X))\n",
        "    X = self.fc3(X)\n",
        "    return F.log_softmax(X,dim=1)"
      ],
      "metadata": {
        "id": "yco8lE2uzxIe"
      },
      "execution_count": 21,
      "outputs": []
    },
    {
      "cell_type": "code",
      "source": [
        "# Creat an isntance of our model\n",
        "torch.manual_seed(41)\n",
        "model = ConvlultinalClass()"
      ],
      "metadata": {
        "id": "vHOECKP2uRfq"
      },
      "execution_count": 22,
      "outputs": []
    },
    {
      "cell_type": "code",
      "source": [
        "model"
      ],
      "metadata": {
        "colab": {
          "base_uri": "https://localhost:8080/"
        },
        "id": "t26hdu684d8t",
        "outputId": "e6365de1-f147-4dea-e659-6b60a3774219"
      },
      "execution_count": 23,
      "outputs": [
        {
          "output_type": "execute_result",
          "data": {
            "text/plain": [
              "ConvlultinalClass(\n",
              "  (conv1): Conv2d(1, 6, kernel_size=(3, 3), stride=(1, 1))\n",
              "  (conv2): Conv2d(6, 16, kernel_size=(3, 3), stride=(1, 1))\n",
              "  (fc1): Linear(in_features=400, out_features=120, bias=True)\n",
              "  (fc2): Linear(in_features=120, out_features=84, bias=True)\n",
              "  (fc3): Linear(in_features=84, out_features=10, bias=True)\n",
              ")"
            ]
          },
          "metadata": {},
          "execution_count": 23
        }
      ]
    },
    {
      "cell_type": "code",
      "source": [
        "#Loss function optimizer\n",
        "criterion = nn.CrossEntropyLoss()\n",
        "optimizer = torch.optim.Adam(model.parameters(), lr=0.01)"
      ],
      "metadata": {
        "id": "9uNJr-i-4ked"
      },
      "execution_count": 24,
      "outputs": []
    },
    {
      "cell_type": "code",
      "source": [
        "#Training CNN Model\n",
        "import time\n",
        "start_time = time.time()\n",
        "# Variables to track things\n",
        "epohcs = 5\n",
        "train_losses = []\n",
        "test_losses = []\n",
        "train_correct = []\n",
        "test_correct = []\n",
        "\n",
        "#For Loops of Epochs\n",
        "for i in range(epohcs):\n",
        "  trn_corr = 0\n",
        "  tst_corr = 0\n",
        "  #Train\n",
        "  for b, (X_train, y_train) in enumerate(train_loader):\n",
        "    b+=1 #start our batches on 1\n",
        "    y_pred = model(X_train) #get predicted the values from the training set Not Flattened it's 2D\n",
        "    loss = criterion(y_pred, y_train) #calculate the loss, how off are we? predict the correct answer in y_train\n",
        "    predicted = torch.max(y_pred.data, 1)[1] #Add up the numbers of correct prediction. indexed of first point\n",
        "    batch_corr = (predicted == y_train).sum() #how many we got correct form this specific batch\n",
        "    trn_corr += batch_corr #keep track as we go long in training\n",
        "\n",
        "    #Update our Parameters\n",
        "\n",
        "    optimizer.zero_grad()\n",
        "    loss.backward()\n",
        "    optimizer.step()\n",
        "    #Print out some results\n",
        "    if b%600 == 0:\n",
        "      print(f'epoch: {i} loss: {loss.item()} batch: {b}')\n",
        "  train_losses.append(loss)\n",
        "  train_correct.append(trn_corr)\n",
        "\n",
        "  #Test\n",
        "  with torch.no_grad(): # we don't update biases and weights on test data\n",
        "    for b, (X_test, y_test) in enumerate(test_loader):\n",
        "      y_val = model(X_test)\n",
        "      predicted = torch.max(y_val.data, 1)[1]\n",
        "      tst_corr += (predicted == y_test).sum()\n",
        "\n",
        "      loss = criterion(y_val, y_test)\n",
        "    test_losses.append(loss)\n",
        "    test_correct.append(tst_corr)\n",
        "\n",
        "current_time = time.time()\n",
        "total_time = current_time - start_time\n",
        "print(f' training took: {total_time/60} minutes')"
      ],
      "metadata": {
        "colab": {
          "base_uri": "https://localhost:8080/"
        },
        "id": "-zK7vmvRxROw",
        "outputId": "6f4457fa-4bfe-4a4b-87f2-3281940cec1a"
      },
      "execution_count": 25,
      "outputs": [
        {
          "output_type": "stream",
          "name": "stdout",
          "text": [
            "epoch: 0 loss: 0.05410553887486458 batch: 600\n",
            "epoch: 0 loss: 0.2919285297393799 batch: 1200\n",
            "epoch: 0 loss: 0.20169854164123535 batch: 1800\n",
            "epoch: 0 loss: 0.5066352486610413 batch: 2400\n",
            "epoch: 0 loss: 0.022063154727220535 batch: 3000\n",
            "epoch: 0 loss: 0.5132097601890564 batch: 3600\n",
            "epoch: 0 loss: 0.006905452348291874 batch: 4200\n",
            "epoch: 0 loss: 0.11871694028377533 batch: 4800\n",
            "epoch: 0 loss: 0.3278399705886841 batch: 5400\n",
            "epoch: 0 loss: 0.017452383413910866 batch: 6000\n",
            "epoch: 1 loss: 0.004546534735709429 batch: 600\n",
            "epoch: 1 loss: 0.007160590495914221 batch: 1200\n",
            "epoch: 1 loss: 0.03086325153708458 batch: 1800\n",
            "epoch: 1 loss: 0.05906737595796585 batch: 2400\n",
            "epoch: 1 loss: 0.7997595071792603 batch: 3000\n",
            "epoch: 1 loss: 0.09846098721027374 batch: 3600\n",
            "epoch: 1 loss: 0.0017122880090028048 batch: 4200\n",
            "epoch: 1 loss: 2.055034929071553e-05 batch: 4800\n",
            "epoch: 1 loss: 0.0006268079159781337 batch: 5400\n",
            "epoch: 1 loss: 0.4657449722290039 batch: 6000\n",
            "epoch: 2 loss: 0.30277401208877563 batch: 600\n",
            "epoch: 2 loss: 0.009358144365251064 batch: 1200\n",
            "epoch: 2 loss: 0.48813456296920776 batch: 1800\n",
            "epoch: 2 loss: 0.06449396908283234 batch: 2400\n",
            "epoch: 2 loss: 0.14212369918823242 batch: 3000\n",
            "epoch: 2 loss: 0.1317552924156189 batch: 3600\n",
            "epoch: 2 loss: 0.5163042545318604 batch: 4200\n",
            "epoch: 2 loss: 0.027834590524435043 batch: 4800\n",
            "epoch: 2 loss: 0.055862464010715485 batch: 5400\n",
            "epoch: 2 loss: 0.5540761947631836 batch: 6000\n",
            "epoch: 3 loss: 0.05887714773416519 batch: 600\n",
            "epoch: 3 loss: 0.15080074965953827 batch: 1200\n",
            "epoch: 3 loss: 0.000977642135694623 batch: 1800\n",
            "epoch: 3 loss: 0.017875004559755325 batch: 2400\n",
            "epoch: 3 loss: 0.047024164348840714 batch: 3000\n",
            "epoch: 3 loss: 0.00010571611346676946 batch: 3600\n",
            "epoch: 3 loss: 0.5356135368347168 batch: 4200\n",
            "epoch: 3 loss: 0.005688543897122145 batch: 4800\n",
            "epoch: 3 loss: 0.3609784245491028 batch: 5400\n",
            "epoch: 3 loss: 0.27755191922187805 batch: 6000\n",
            "epoch: 4 loss: 0.056488435715436935 batch: 600\n",
            "epoch: 4 loss: 0.01953693851828575 batch: 1200\n",
            "epoch: 4 loss: 0.49600210785865784 batch: 1800\n",
            "epoch: 4 loss: 0.010989253409206867 batch: 2400\n",
            "epoch: 4 loss: 0.8252681493759155 batch: 3000\n",
            "epoch: 4 loss: 0.02807309851050377 batch: 3600\n",
            "epoch: 4 loss: 0.02129306271672249 batch: 4200\n",
            "epoch: 4 loss: 0.07645485550165176 batch: 4800\n",
            "epoch: 4 loss: 0.12107636779546738 batch: 5400\n",
            "epoch: 4 loss: 0.012603828683495522 batch: 6000\n",
            " training took: 3.5465824524561564 minutes\n"
          ]
        }
      ]
    },
    {
      "cell_type": "code",
      "source": [
        "#Graph the loss at epochs\n",
        "train_losses = [tl.item() for tl in train_losses]\n",
        "#test_losses = [tl.item() for tl in test_losses]\n",
        "plt.plot(train_losses, label='training loss')\n",
        "plt.plot(test_losses, label='testing loss')\n",
        "plt.legend()\n",
        "plt.show()"
      ],
      "metadata": {
        "colab": {
          "base_uri": "https://localhost:8080/",
          "height": 430
        },
        "id": "KD5Ue44a6-0-",
        "outputId": "5cb23785-eace-49cb-a263-1724e56267ad"
      },
      "execution_count": 26,
      "outputs": [
        {
          "output_type": "display_data",
          "data": {
            "text/plain": [
              "<Figure size 640x480 with 1 Axes>"
            ],
            "image/png": "[encoded data removed]"
          },
          "metadata": {}
        }
      ]
    },
    {
      "cell_type": "code",
      "source": [
        "# prompt: Graph the accoracy at the end of each epochs\n",
        "\n",
        "import matplotlib.pyplot as plt\n",
        "plt.plot([t/600 for t in train_correct], label='training accuracy')\n",
        "plt.plot([t/100 for t in test_correct], label='validation accuracy')\n",
        "plt.title('Accuracy at the end of each epoch')\n",
        "plt.legend();\n"
      ],
      "metadata": {
        "colab": {
          "base_uri": "https://localhost:8080/",
          "height": 452
        },
        "id": "TLfAW0tD7ve5",
        "outputId": "a86d7e95-ce6b-46e9-b995-5e07101f245e"
      },
      "execution_count": 27,
      "outputs": [
        {
          "output_type": "display_data",
          "data": {
            "text/plain": [
              "<Figure size 640x480 with 1 Axes>"
            ],
            "image/png": "[encoded data removed]"
          },
          "metadata": {}
        }
      ]
    },
    {
      "cell_type": "code",
      "source": [
        "# prompt: code to see acturla number how correct we were\n",
        "test_loader_everythin = DataLoader(test_dataset, batch_size=10000, shuffle=False)\n",
        "\n",
        "#print(test_correct) # prints a list of how many we got correct at each epoch\n",
        "#print(f'Test accuracy: {test_correct[-1].item()*100/10000:.3f}%') # prints the final test accuracy\n"
      ],
      "metadata": {
        "id": "KvXTYkTr8LpK"
      },
      "execution_count": 28,
      "outputs": []
    },
    {
      "cell_type": "code",
      "source": [
        "with torch.no_grad():\n",
        "  correct = 0\n",
        "  for X_test, y_test in test_loader_everythin:\n",
        "    y_val = model(X_test)\n",
        "    predicted = torch.max(y_val.data, 1)[1]\n",
        "    correct += (predicted == y_test).sum()\n",
        "  print(f'Test accuracy: {correct.item()*100/10000:.3f}%')"
      ],
      "metadata": {
        "colab": {
          "base_uri": "https://localhost:8080/"
        },
        "id": "ntusc9O780ff",
        "outputId": "fcf24dd0-b5ee-4d2c-ee47-c5317790cb48"
      },
      "execution_count": 29,
      "outputs": [
        {
          "output_type": "stream",
          "name": "stdout",
          "text": [
            "Test accuracy: 95.430%\n"
          ]
        }
      ]
    },
    {
      "cell_type": "code",
      "source": [],
      "metadata": {
        "id": "mbSyf4RS9rVD"
      },
      "execution_count": null,
      "outputs": []
    }
  ]
}